{
  "nbformat": 4,
  "nbformat_minor": 0,
  "metadata": {
    "colab": {
      "name": "Python_Study-CPU.ipynb",
      "provenance": [],
      "collapsed_sections": [],
      "toc_visible": true,
      "authorship_tag": "ABX9TyPA26agFgt0L9YBxbKkv/+J",
      "include_colab_link": true
    },
    "kernelspec": {
      "name": "python3",
      "display_name": "Python 3"
    },
    "language_info": {
      "name": "python"
    }
  },
  "cells": [
    {
      "cell_type": "markdown",
      "metadata": {
        "id": "view-in-github",
        "colab_type": "text"
      },
      "source": [
        "<a href=\"https://colab.research.google.com/github/JOyagdol/Python_Study-CPU/blob/main/Study_code/Python_Study_CPU.ipynb\" target=\"_parent\"><img src=\"https://colab.research.google.com/assets/colab-badge.svg\" alt=\"Open In Colab\"/></a>"
      ]
    },
    {
      "cell_type": "markdown",
      "source": [
        "# Python_Study-CPU [02] Data"
      ],
      "metadata": {
        "id": "cA95zrwTa5s3"
      }
    },
    {
      "cell_type": "markdown",
      "source": [
        "> ## print() 함수 복습"
      ],
      "metadata": {
        "id": "j2jg5LB3hujw"
      }
    },
    {
      "cell_type": "code",
      "source": [
        "print(\"안녕하세요\")"
      ],
      "metadata": {
        "colab": {
          "base_uri": "https://localhost:8080/"
        },
        "id": "B1UDJwG-bDb7",
        "outputId": "0a18a165-61ec-42b6-82e2-500dc6555900"
      },
      "execution_count": null,
      "outputs": [
        {
          "output_type": "stream",
          "name": "stdout",
          "text": [
            "안녕하세요\n"
          ]
        }
      ]
    },
    {
      "cell_type": "code",
      "source": [
        "print(\"100\")    #1\n",
        "print(\"%d\"%100) #2"
      ],
      "metadata": {
        "colab": {
          "base_uri": "https://localhost:8080/"
        },
        "id": "kX0uswBmbY7_",
        "outputId": "4cca056a-74bb-43ca-9780-dd3047f115d0"
      },
      "execution_count": null,
      "outputs": [
        {
          "output_type": "stream",
          "name": "stdout",
          "text": [
            "100\n",
            "100\n"
          ]
        }
      ]
    },
    {
      "cell_type": "markdown",
      "source": [
        "\\#1 결과로 나온 100은 숫자 100이 아닌 문자 100(일영영)! \n",
        "\n",
        "> \" \" 안의 내용이 문자든 숫자든 무조건 문자로 취급\n",
        "\n",
        "\\#2 결과로 나온 100은 숫자 100을 의미"
      ],
      "metadata": {
        "id": "fmmzEG8xbjdq"
      }
    },
    {
      "cell_type": "code",
      "source": [
        "print(\"100 + 100\")     \n",
        "print(\"%d\"%(100 + 100))"
      ],
      "metadata": {
        "id": "ifc0tTdObaqI",
        "colab": {
          "base_uri": "https://localhost:8080/"
        },
        "outputId": "6220474e-7172-4c55-a210-3934c453bdfa"
      },
      "execution_count": null,
      "outputs": [
        {
          "output_type": "stream",
          "name": "stdout",
          "text": [
            "100 + 100\n",
            "200\n"
          ]
        }
      ]
    },
    {
      "cell_type": "code",
      "source": [
        "#print(\"%d\"%(100,200))\n",
        "#print(\"%d %d\"%(100))"
      ],
      "metadata": {
        "id": "pm-OEetkdM-M"
      },
      "execution_count": null,
      "outputs": []
    },
    {
      "cell_type": "markdown",
      "source": [
        "\\#1 %d가 하나밖에 없는데 숫자가 2개\n",
        "\n",
        "\\#2 %d가 2개인데 숫자는 1개 \n",
        "> 서로 짝이 맞지 않다."
      ],
      "metadata": {
        "id": "RKBZYu7LfhUW"
      }
    },
    {
      "cell_type": "code",
      "source": [
        "print(\"%d %d\" % (100,200))"
      ],
      "metadata": {
        "colab": {
          "base_uri": "https://localhost:8080/"
        },
        "id": "v1tfoheYfOba",
        "outputId": "3967a82c-2923-4752-90ef-427b710a5964"
      },
      "execution_count": null,
      "outputs": [
        {
          "output_type": "stream",
          "name": "stdout",
          "text": [
            "100 200\n"
          ]
        }
      ]
    },
    {
      "cell_type": "markdown",
      "source": [
        "> 서식과 숫자는 대응해야 한다!"
      ],
      "metadata": {
        "id": "CfbRCLVpgPyl"
      }
    },
    {
      "cell_type": "code",
      "source": [
        "print(\"%d / %d = %d\"%(100,200,0.5))\n",
        "print(\"%d / %d = %5.1f\"%(100,200,0.5))"
      ],
      "metadata": {
        "colab": {
          "base_uri": "https://localhost:8080/"
        },
        "id": "iM6Uj4vEfNLB",
        "outputId": "0e67588f-16a2-4a7e-cf8b-73d97a36c8fa"
      },
      "execution_count": null,
      "outputs": [
        {
          "output_type": "stream",
          "name": "stdout",
          "text": [
            "100 / 200 = 0\n",
            "100 / 200 =   0.5\n"
          ]
        }
      ]
    },
    {
      "cell_type": "markdown",
      "source": [
        "![그림1.png](data:image/png;base64,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)"
      ],
      "metadata": {
        "id": "C43pwdadqVm8"
      }
    },
    {
      "cell_type": "code",
      "source": [
        "print(\"%d\"%123)\n",
        "print(\"%5d\"%123)\n",
        "print(\"%05d\"%123)\n",
        "\n",
        "print(\"%f\"%123.45)\n",
        "print(\"%7.1f\"%123.45)\n",
        "print(\"%7.3f\"%123.45)\n",
        "\n",
        "print(\"%s\"%\"Python\")\n",
        "print(\"%10s\"%\"Python\")"
      ],
      "metadata": {
        "colab": {
          "base_uri": "https://localhost:8080/"
        },
        "id": "P9ioTK4ur3M1",
        "outputId": "eed54075-1c9c-413e-d2be-b87a6ba8e76c"
      },
      "execution_count": null,
      "outputs": [
        {
          "output_type": "stream",
          "name": "stdout",
          "text": [
            "123\n",
            "  123\n",
            "00123\n",
            "123.450000\n",
            "  123.5\n",
            "123.450\n",
            "Python\n",
            "    Python\n"
          ]
        }
      ]
    },
    {
      "cell_type": "code",
      "source": [
        "print(\"\\n줄바꿈\\n연습\")\n",
        "print(\"\\t탭키\\t연습\")\n",
        "print(\"\\\"큰 따옴표\\\"\")\n",
        "print(\"\\'작은 따옴표\\'\")\n",
        "print(\"\\\\ 역슬래시\")"
      ],
      "metadata": {
        "colab": {
          "base_uri": "https://localhost:8080/"
        },
        "id": "3YqUIhWtr_jT",
        "outputId": "79d3dee0-4179-430d-bd6c-8c6a7c5e0c16"
      },
      "execution_count": null,
      "outputs": [
        {
          "output_type": "stream",
          "name": "stdout",
          "text": [
            "\n",
            "줄바꿈\n",
            "연습\n",
            "\t탭키\t연습\n",
            "\"큰 따옴표\"\n",
            "'작은 따옴표'\n",
            "\\ 역슬래시\n"
          ]
        }
      ]
    },
    {
      "cell_type": "markdown",
      "source": [
        "> ## input() 함수 복습\n",
        "\n",
        "\n"
      ],
      "metadata": {
        "id": "AuBVEOrChtqi"
      }
    },
    {
      "cell_type": "code",
      "source": [
        "temp1 = int(input('Enter a feet: '))\n",
        "temp2 = int(input('Enter a inch: '))\n",
        "\n",
        "print(temp1, 'feet is ',temp1*30.48,'cm')\n",
        "print(temp1,'inch is ',temp2*2.54,'cm')\n",
        "\n",
        "print(temp1,'feet',temp2,'inch is ',round((temp1*30.48)+(temp2*2.54)))"
      ],
      "metadata": {
        "colab": {
          "base_uri": "https://localhost:8080/"
        },
        "id": "iXvOlX7_h23v",
        "outputId": "bd886a2e-bcf7-4bec-80d5-b46fc92d90eb"
      },
      "execution_count": null,
      "outputs": [
        {
          "output_type": "stream",
          "name": "stdout",
          "text": [
            "Enter a feet: 10\n",
            "Enter a inch: 10\n",
            "10 feet is  304.8 cm\n",
            "10 inch is  25.4 cm\n",
            "10 feet 10 inch is  330\n"
          ]
        }
      ]
    },
    {
      "cell_type": "markdown",
      "source": [
        "- ##### 숫자 입력받아 계산하기\n",
        "> input() 함수는 기본적으로 문자열을 리턴한다. \n",
        ">\n",
        "> input() 안에 있는 문자열은 콘솔에 출력된다.\n",
        ">\n",
        "> int() 함수는 문자열을 정수형으로 리턴한다."
      ],
      "metadata": {
        "id": "3Gm7y5cxAZdW"
      }
    },
    {
      "cell_type": "markdown",
      "source": [
        "round(number[, ndigits])\n",
        "+ 인자로 들어온 number가 숫자 타입인 경우 정수 혹은 실수를 반환\n",
        "+ number : 반올림 하고싶은 숫자\n",
        "+ ndigits : 정밀도에 관련된 수 (소수점 ndigits번째 까지 반올림)"
      ],
      "metadata": {
        "id": "5xTD_gGGkYxz"
      }
    },
    {
      "cell_type": "code",
      "source": [
        "name = input('Enter your name: ')\n",
        "print(\"Hello, \",name)\n",
        "\n",
        "num = eval(input('Enter a number: '))\n",
        "print('Your number squared: ',num*num)"
      ],
      "metadata": {
        "colab": {
          "base_uri": "https://localhost:8080/"
        },
        "id": "jTLvt-ZijxkY",
        "outputId": "e8a8ceeb-5920-4f3f-bedd-00f352b9901a"
      },
      "execution_count": null,
      "outputs": [
        {
          "output_type": "stream",
          "name": "stdout",
          "text": [
            "Enter your name: Jo\n",
            "Hello,  Jo\n",
            "Enter a number: 10\n",
            "Your number squared:  100\n"
          ]
        }
      ]
    },
    {
      "cell_type": "markdown",
      "source": [
        "+ eval()\n",
        "> evaluation 약자\n",
        ">\n",
        "> 문자열들을 수식으로 변형하여 num에 반환\n",
        ">\n",
        "> 수식이기 때문에 단일값 뿐아니라 식도 사용 가능!"
      ],
      "metadata": {
        "id": "1h0eOXXnC7gd"
      }
    },
    {
      "cell_type": "markdown",
      "source": [
        "> ## Data - 변수&상수\n",
        "\n",
        "\n"
      ],
      "metadata": {
        "id": "9Otqq7zzPdjU"
      }
    },
    {
      "cell_type": "code",
      "source": [
        "boolVar = True\n",
        "intVar = 0\n",
        "floatVar = 0.0\n",
        "strVar = \"\""
      ],
      "metadata": {
        "id": "THEulHg9PYU3"
      },
      "execution_count": null,
      "outputs": []
    },
    {
      "cell_type": "code",
      "source": [
        "print(type(boolVar),type(intVar),type(floatVar),type(strVar))"
      ],
      "metadata": {
        "colab": {
          "base_uri": "https://localhost:8080/"
        },
        "id": "yjsnwLAXQA-G",
        "outputId": "3d7f0659-b438-4e70-c46e-17a15fc16cde"
      },
      "execution_count": null,
      "outputs": [
        {
          "output_type": "stream",
          "name": "stdout",
          "text": [
            "<class 'bool'> <class 'int'> <class 'float'> <class 'str'>\n"
          ]
        }
      ]
    },
    {
      "cell_type": "code",
      "source": [
        "var1 = 200\n",
        "var2 = var1\n",
        "print(var2)\n",
        "\n",
        "var2 = var1 + 100\n",
        "print(var2)\n",
        "\n",
        "var1 = var2 = var3 = var4 = 100\n",
        "print(var1,var2,var3,var4)\n",
        "\n",
        "var1 = var1 + 100\n",
        "print(var1)"
      ],
      "metadata": {
        "colab": {
          "base_uri": "https://localhost:8080/"
        },
        "id": "XHaY_qhXblQu",
        "outputId": "078fc8f8-6c1e-46dc-db01-94d3f8111da8"
      },
      "execution_count": null,
      "outputs": [
        {
          "output_type": "stream",
          "name": "stdout",
          "text": [
            "200\n",
            "300\n",
            "100 100 100 100\n",
            "200\n"
          ]
        }
      ]
    },
    {
      "cell_type": "code",
      "source": [
        "a = 10\n",
        "print(type(a))\n",
        "print(\"a:\",a,\"a+a: \",a + a)\n",
        "\n",
        "a = float(a)\n",
        "print(type(a))\n",
        "print(\"a:\",a,\"a+a: \",a + a)\n",
        "\n",
        "a = str(a)\n",
        "print(type(a))\n",
        "print(\"a:\",a,\"a+a: \",a + a)"
      ],
      "metadata": {
        "colab": {
          "base_uri": "https://localhost:8080/"
        },
        "id": "-lOoBZB5QLNu",
        "outputId": "0e6f3442-2a86-48b9-91fb-1614d02cd05b"
      },
      "execution_count": null,
      "outputs": [
        {
          "output_type": "stream",
          "name": "stdout",
          "text": [
            "<class 'int'>\n",
            "a: 10 a+a:  20\n",
            "<class 'float'>\n",
            "a: 10.0 a+a:  20.0\n",
            "<class 'str'>\n",
            "a: 10.0 a+a:  10.010.0\n"
          ]
        }
      ]
    },
    {
      "cell_type": "code",
      "source": [
        ""
      ],
      "metadata": {
        "id": "PfYJ-yb1aVCv"
      },
      "execution_count": null,
      "outputs": []
    }
  ]
}