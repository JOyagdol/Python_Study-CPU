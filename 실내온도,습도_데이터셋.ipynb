{
  "nbformat": 4,
  "nbformat_minor": 0,
  "metadata": {
    "colab": {
      "provenance": [],
      "authorship_tag": "ABX9TyMuNEnn7spiTnbAibW1jz3t",
      "include_colab_link": true
    },
    "kernelspec": {
      "name": "python3",
      "display_name": "Python 3"
    },
    "language_info": {
      "name": "python"
    }
  },
  "cells": [
    {
      "cell_type": "markdown",
      "metadata": {
        "id": "view-in-github",
        "colab_type": "text"
      },
      "source": [
        "<a href=\"https://colab.research.google.com/github/JOyagdol/Python_Study-CPU/blob/main/%EC%8B%A4%EB%82%B4%EC%98%A8%EB%8F%84%2C%EC%8A%B5%EB%8F%84_%EB%8D%B0%EC%9D%B4%ED%84%B0%EC%85%8B.ipynb\" target=\"_parent\"><img src=\"https://colab.research.google.com/assets/colab-badge.svg\" alt=\"Open In Colab\"/></a>"
      ]
    },
    {
      "cell_type": "code",
      "source": [
        "import random \n",
        "import pandas as pd"
      ],
      "metadata": {
        "id": "JBSHQDfMgz6a"
      },
      "execution_count": null,
      "outputs": []
    },
    {
      "cell_type": "code",
      "execution_count": null,
      "metadata": {
        "id": "mGJFN6kQGPzi"
      },
      "outputs": [],
      "source": [
        "def set_house_indoor_temp():\n",
        "  tmp_indoor = [0.0] * 48 # 24시간을 30분 단위, 총 48개의 배열\n",
        "\n",
        "  indoor_temperature_in_person = random.randint(20,24) #사람들이 선호하는 실내 온도 : 20~24도 사이 / [0]~[15], [37]~[47] \n",
        "  indoor_temperature_no_person = random.randint(17,18) #외출할 때 설정한 실내 온도, 08:00 ~ 18:00 /  [16] ~ [36]\n",
        "\n",
        "  indoor_temperature = indoor_temperature_in_person\n",
        "  max_temp_indoor = indoor_temperature_in_person + 0.5\n",
        "  min_temp_indoor = indoor_temperature_in_person - 0.5\n",
        "\n",
        "  for i in range(0,16): # 새벽시간, 온도를 유지한다\n",
        "    indoor_temperature = indoor_temperature + random.uniform(-0.3,0.3) # 30분 전 온도 + (-0.3~0.3)의 값\n",
        "    if indoor_temperature > max_temp_indoor:\n",
        "      indoor_temperature -= 0.2\n",
        "    if indoor_temperature < min_temp_indoor:\n",
        "      indoor_temperature += 0.2    \n",
        "    tmp_indoor[i] = round(indoor_temperature,1)\n",
        "\n",
        "  for i in range(16,37): # 외출시간, 보일러를 끄면 온도가 목표 온도까지 쭉쭉 줄어든다\n",
        "    if indoor_temperature > indoor_temperature_no_person + 0.3:\n",
        "      indoor_temperature -= random.uniform(0.2,0.5) # 30분 전 온도 - 0~0.3\n",
        "    else:\n",
        "      indoor_temperature += random.uniform(0.2,0.3)\n",
        "\n",
        "    tmp_indoor[i] = round(indoor_temperature,1)\n",
        "\n",
        "  want_temp = False #원하는 온도에 도달했는지 여부를 확인\n",
        "  for i in range(37,48): # 퇴근직후, 보일러를 켜서 온도가 쭉쭉 상승한다\n",
        "    if want_temp is False: #원하는 온도에 도달하지 못했다면\n",
        "      new_temp = random.uniform(1,2)\n",
        "      indoor_temperature = indoor_temperature + new_temp # 30분 전 온도 + (1~2)의 값\n",
        "      tmp_indoor[i] = round(indoor_temperature,1)\n",
        "      if indoor_temperature > indoor_temperature_in_person:\n",
        "        want_temp = True\n",
        "    else: # 원하는 온도에 도달했다면 온도 유지\n",
        "      indoor_temperature = indoor_temperature + random.uniform(-0.3,0.3) # 30분 전 온도 + (-0.3~0.3)의 값\n",
        "      if indoor_temperature > max_temp_indoor:\n",
        "        indoor_temperature -= 0.2\n",
        "      if indoor_temperature < min_temp_indoor:\n",
        "        indoor_temperature += 0.2     \n",
        "      tmp_indoor[i] = round(indoor_temperature,1)\n",
        "  tmp_indoor.insert(0,\"내부 온도\")\n",
        "  return tmp_indoor\n"
      ]
    },
    {
      "cell_type": "code",
      "source": [
        "def set_house_indoor_humidity():\n",
        "  humidity_indoor = [0.0] * 48 # 24시간을 30분 단위, 총 48개의 배열\n",
        "\n",
        "  humidity = random.randint(45,55) # 21도의 적정 실내온도 = 50\n",
        "  max_humidity = humidity + 5\n",
        "  min_humidity = humidity - 5\n",
        "  \n",
        "  for i in range(48): # 새벽시간, 온도를 유지한다\n",
        "    humidity = humidity + random.randint(-2,2)\n",
        "    if humidity > max_humidity:\n",
        "      humidity = max_humidity\n",
        "    elif humidity < min_humidity:\n",
        "      humidity = min_humidity\n",
        "    humidity_indoor[i] = humidity\n",
        "    #print(humidity_indoor[i])\n",
        "\n",
        "  humidity_indoor.insert(0,\"내부 습도\")  \n",
        "  return humidity_indoor"
      ],
      "metadata": {
        "id": "Q4pqaAPUsZQV"
      },
      "execution_count": null,
      "outputs": []
    },
    {
      "cell_type": "code",
      "source": [
        "result = pd.DataFrame(columns=range(48))\n",
        "for i in range(55):\n",
        "  df_temp = pd.DataFrame([set_house_indoor_humidity()])\n",
        "  df_humidity = pd.DataFrame([set_house_indoor_temp()])\n",
        "\n",
        "  tmp = pd.concat([df_temp, df_humidity])\n",
        "  result = pd.concat([result, tmp], axis=0)\n",
        "\n",
        "result.to_excel('output6.xlsx', index=False)"
      ],
      "metadata": {
        "id": "e29bm7baw5Ek"
      },
      "execution_count": null,
      "outputs": []
    }
  ]
}